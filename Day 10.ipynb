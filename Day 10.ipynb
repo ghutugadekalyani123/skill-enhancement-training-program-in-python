{
 "cells": [
  {
   "cell_type": "markdown",
   "metadata": {},
   "source": [
    "## Day 10\n",
    "### Solve the following problems using Recursion and Iteration\n",
    "\n",
    "Power of a number\n",
    "Factorial\n",
    "GCD\n",
    "Towers of Hanoi\n",
    "Generating the nth Fibonacci number\n"
   ]
  },
  {
   "cell_type": "code",
   "execution_count": 1,
   "metadata": {},
   "outputs": [
    {
     "data": {
      "text/plain": [
       "100"
      ]
     },
     "execution_count": 1,
     "metadata": {},
     "output_type": "execute_result"
    }
   ],
   "source": [
    "### Power of a number\n",
    "def Power(a,b):\n",
    "    if(b==1):\n",
    "        return a\n",
    "    else:\n",
    "        return Power(a, b-1)*a\n",
    "Power(10,2)\n",
    "    "
   ]
  },
  {
   "cell_type": "code",
   "execution_count": 2,
   "metadata": {},
   "outputs": [
    {
     "data": {
      "text/plain": [
       "120"
      ]
     },
     "execution_count": 2,
     "metadata": {},
     "output_type": "execute_result"
    }
   ],
   "source": [
    "#factorial\n",
    "def factorial(n):\n",
    "    if (n==0):\n",
    "        return 1\n",
    "    else:\n",
    "        return n*factorial(n-1)\n",
    "factorial(5)"
   ]
  },
  {
   "cell_type": "code",
   "execution_count": null,
   "metadata": {},
   "outputs": [],
   "source": [
    "#GCD"
   ]
  },
  {
   "cell_type": "code",
   "execution_count": 3,
   "metadata": {},
   "outputs": [
    {
     "name": "stdout",
     "output_type": "stream",
     "text": [
      "move 1 disk from A to C\n",
      "move 2 disk from A to B\n",
      "move 1 disk from C to B\n",
      "move 3 disk from A to C\n",
      "move 1 disk from B to A\n",
      "move 2 disk from B to C\n",
      "move 1 disk from A to C\n"
     ]
    }
   ],
   "source": [
    "#Towers of Hanoi\n",
    "def towerofHonoi(n, source, temp,dest):\n",
    "    if n==1:\n",
    "        print('move', n, 'disk from',source, 'to', dest)\n",
    "        return \n",
    "    else:\n",
    "        towerofHonoi(n-1, source, dest,temp)\n",
    "        print('move', n, 'disk from',source, 'to', dest)\n",
    "        towerofHonoi(n-1, temp, source,dest)\n",
    "        return\n",
    "towerofHonoi(3, 'A', 'B','C')\n",
    "        "
   ]
  },
  {
   "cell_type": "code",
   "execution_count": 5,
   "metadata": {},
   "outputs": [
    {
     "data": {
      "text/plain": [
       "8"
      ]
     },
     "execution_count": 5,
     "metadata": {},
     "output_type": "execute_result"
    }
   ],
   "source": [
    "#Generating the nth Fibonacci number\n",
    "def fibonacci(x):\n",
    "    if x<=1:\n",
    "        return x\n",
    "    else:\n",
    "        return(fibonacci(x-1)+fibonacci(x-2))\n",
    "fibonacci(6)\n",
    "        "
   ]
  },
  {
   "cell_type": "markdown",
   "metadata": {},
   "source": [
    "## Day  10\n",
    "### Define a function to identity the number of times a substring is repeating in a given string\n",
    "Test cases\n",
    "substringCount('str', 'substr') -> 1\n",
    "substringCount('1234567891122334455', '3') -> 3\n",
    "substringCount('abccddccc', 'cc') -> 3\n",
    "substringCount('aaaaaaa', 'aaa' ) -> 5"
   ]
  },
  {
   "cell_type": "code",
   "execution_count": 10,
   "metadata": {},
   "outputs": [
    {
     "name": "stdout",
     "output_type": "stream",
     "text": [
      "2\n",
      "3\n"
     ]
    }
   ],
   "source": [
    "def substringCount(string, substring):\n",
    "    print(string.count(substring))\n",
    "substringCount('abccddccc','cc')\n",
    "substringCount('1234567891122334455', '3')"
   ]
  },
  {
   "cell_type": "markdown",
   "metadata": {},
   "source": [
    "##Define a function to merge the characters of two strings alternatively. The remaining characters\n",
    "\n",
    "     of the longer string are printed in the same order at the end.\n",
    "\n",
    "mergeString('abcd', 'abcd') -> 'aabbccdd'\n",
    "mergeString('abc', '123456') -> 'a1b2c3456'\n",
    "mergeString('0', '123456') -> '0123456'"
   ]
  },
  {
   "cell_type": "code",
   "execution_count": 11,
   "metadata": {},
   "outputs": [
    {
     "name": "stdout",
     "output_type": "stream",
     "text": [
      "aebf\n"
     ]
    }
   ],
   "source": [
    "def mergeString(str1, str2):\n",
    "    s=''\n",
    "    li=len(str1) \n",
    "    si=len(str2)\n",
    "    if(li==si):\n",
    "        for i in range(li):\n",
    "            s=s+str1[i]+str2[i] \n",
    "    if(li<si):\n",
    "        for i in range(li):\n",
    "            s=s+str1[i]+str2[i]\n",
    "    else:\n",
    "        for i in range(si):\n",
    "            s=s+str1[i]+str2[i]\n",
    "    print(s)        \n",
    "            \n",
    "mergeString('abcd', 'ef')"
   ]
  },
  {
   "cell_type": "markdown",
   "metadata": {},
   "source": [
    "## Day 10\n",
    "## Define a function to convert a binary number to the corresponding decimal number\n",
    "\n",
    "Test cases\n",
    "binaryToDecimal(1100) -> 12\n",
    "binaryToDecimal(1010) -> 10\n",
    "binaryToDecimal(111000) -> 56"
   ]
  },
  {
   "cell_type": "code",
   "execution_count": 12,
   "metadata": {},
   "outputs": [
    {
     "name": "stdout",
     "output_type": "stream",
     "text": [
      "4\n",
      "10\n"
     ]
    }
   ],
   "source": [
    "def binaryToDecimal(binary): \n",
    "      \n",
    "    binary1 = binary \n",
    "    decimal, i, n = 0, 0, 0\n",
    "    while(binary != 0): \n",
    "        dec = binary % 10\n",
    "        decimal = decimal + dec * pow(2, i) \n",
    "        binary = binary//10\n",
    "        i += 1\n",
    "    print(decimal)     \n",
    "binaryToDecimal(100)\n",
    "binaryToDecimal(1010)"
   ]
  },
  {
   "cell_type": "markdown",
   "metadata": {},
   "source": [
    "## Day 10\n",
    "## Define a function to convert a decimal number to the corresponding binary number\n",
    "\n",
    "decimalToBinary(15) -> 1111\n",
    "decimalToBinary(1) -> 1"
   ]
  },
  {
   "cell_type": "code",
   "execution_count": 13,
   "metadata": {},
   "outputs": [
    {
     "name": "stdout",
     "output_type": "stream",
     "text": [
      "1010"
     ]
    }
   ],
   "source": [
    "def decToBinary(n): \n",
    "       \n",
    "    binaryNum = [0] * n; \n",
    "    i = 0; \n",
    "    while (n > 0):  \n",
    "        binaryNum[i] = n % 2; \n",
    "        n = (n // 2); \n",
    "        i += 1;  \n",
    "    for j in range(i - 1, -1, -1): \n",
    "        print(binaryNum[j], end = \"\"); \n",
    "decToBinary(10)"
   ]
  },
  {
   "cell_type": "markdown",
   "metadata": {},
   "source": [
    "## Day 10\n",
    "## Define a function to check if a given year is a leap year. Returns a boolean value\n",
    "\n",
    "2000 -> True\n",
    "1900 -> False\n",
    "2012 -> True\n",
    "2020 -> True\n",
    "0200 -> False"
   ]
  },
  {
   "cell_type": "code",
   "execution_count": 14,
   "metadata": {},
   "outputs": [
    {
     "name": "stdout",
     "output_type": "stream",
     "text": [
      "true\n",
      "False\n",
      "False\n"
     ]
    }
   ],
   "source": [
    "def leapYear(n):\n",
    "    if(n%4==0) and (n%100!=0) or (n%400==0):\n",
    "        print(\"true\")\n",
    "    else:\n",
    "        print(\"False\")\n",
    "leapYear(2012)\n",
    "leapYear(1900)\n",
    "leapYear(2200)"
   ]
  },
  {
   "cell_type": "markdown",
   "metadata": {},
   "source": [
    "## Day10\n",
    "#### Design a Python script to determine the difference in date for given two dates in YYYY:MM:DD format(0 <= YYYY <= 9999, 1 <= MM <= 12, 1 <= DD <= 31) following the leap year rules. Return the total number of days existing between the two dates.\n",
    "Test case\n",
    "dateDifference('2019:05:10', '2019:05:01') -> 9\n",
    "dateDifference('0003:03:03', '0003:06:06') -> 95\n",
    "dateDifference('0001:03:27', '0001:06:03') -> 68"
   ]
  },
  {
   "cell_type": "code",
   "execution_count": 16,
   "metadata": {},
   "outputs": [
    {
     "name": "stdout",
     "output_type": "stream",
     "text": [
      "\n",
      "307\n"
     ]
    }
   ],
   "source": [
    "import datetime\n",
    "from datetime import date\n",
    "def differ_days(date1, date2):\n",
    "\n",
    "    a = date1\n",
    "    b = date2\n",
    "    return (a-b).days\n",
    "print()\n",
    "print(differ_days((date(2016,10,12)), date(2015,12,10)))"
   ]
  },
  {
   "cell_type": "markdown",
   "metadata": {},
   "source": [
    "## Day 10\n",
    "### Define a function to find the average of all the outer elements of an N x M matrix.\n",
    "\n",
    "averageOuterMatrix([[1, 2, 3], [4, 5, 6], [7, 8, 9], [10, 11, 12]] -> 4.5"
   ]
  },
  {
   "cell_type": "code",
   "execution_count": 20,
   "metadata": {},
   "outputs": [
    {
     "name": "stdout",
     "output_type": "stream",
     "text": [
      "6.5\n"
     ]
    }
   ],
   "source": [
    "import numpy as np\n",
    "def averageOuterMatrix(l):\n",
    "    x=np.array(l)\n",
    "    (r,c)=x.shape\n",
    "    sum=0\n",
    "    count=0\n",
    "    for i in range(r):\n",
    "        for j in range(c):\n",
    "            if(i==0):\n",
    "                sum=sum+l[i][j]\n",
    "                count=count+1\n",
    "            elif(i==r-1):\n",
    "                sum=sum+l[i][j]\n",
    "                count=count+1\n",
    "            elif(j==0):\n",
    "                sum=sum+l[i][j]\n",
    "                count=count+1\n",
    "            elif(j==c-1):\n",
    "                sum=sum+l[i][j] \n",
    "                count=count+1\n",
    "    avg=sum/count\n",
    "    print(avg)\n",
    "averageOuterMatrix([[1, 2, 3], [4, 5, 6], [7, 8, 9], [10, 11, 12]])    "
   ]
  },
  {
   "cell_type": "markdown",
   "metadata": {},
   "source": [
    "## Day 10\n",
    "### Define a function to print the sequence of spiral pattern elements for a given N x N matrixs\n",
    "Test case \n",
    "spiralPattern([[1,2,3], [4,5,6], [7,8,9]]) -> 1 2 3 6 9 8 7 4 5\n"
   ]
  },
  {
   "cell_type": "code",
   "execution_count": 21,
   "metadata": {},
   "outputs": [
    {
     "name": "stdout",
     "output_type": "stream",
     "text": [
      "1 4 7 8 9 6 3 2 5 "
     ]
    }
   ],
   "source": [
    "import numpy as np\n",
    "def spiralPattern(l):\n",
    "    x=np.array(l)\n",
    "    (row,col)=x.shape\n",
    "    a=0\n",
    "    count=0\n",
    "    b=0\n",
    "    total=row*col\n",
    "    while a<row and b<col:\n",
    "        if (count == total):\n",
    "            break\n",
    "        for i in range(a,row) :\n",
    "            print(x[i][b], end = \" \")\n",
    "            count += 1\n",
    "        b=b+1\n",
    "        if (count == total) :\n",
    "            break\n",
    "        for i in range (b,col) :\n",
    "            print(x[row-1][i],end = \" \")\n",
    "            count+=1\n",
    "        row-=1  \n",
    "        if (count == total) :\n",
    "            break \n",
    "        if (a<row) :\n",
    "            for i in range(row-1,a-1,-1) :\n",
    "                print(x[i][col-1], end = \" \")\n",
    "                count+=1\n",
    "        col-=1\n",
    "spiralPattern([[1,2,3], [4,5,6], [7,8,9]])"
   ]
  },
  {
   "cell_type": "code",
   "execution_count": null,
   "metadata": {},
   "outputs": [],
   "source": []
  }
 ],
 "metadata": {
  "kernelspec": {
   "display_name": "Python 3",
   "language": "python",
   "name": "python3"
  },
  "language_info": {
   "codemirror_mode": {
    "name": "ipython",
    "version": 3
   },
   "file_extension": ".py",
   "mimetype": "text/x-python",
   "name": "python",
   "nbconvert_exporter": "python",
   "pygments_lexer": "ipython3",
   "version": "3.6.5"
  }
 },
 "nbformat": 4,
 "nbformat_minor": 2
}
