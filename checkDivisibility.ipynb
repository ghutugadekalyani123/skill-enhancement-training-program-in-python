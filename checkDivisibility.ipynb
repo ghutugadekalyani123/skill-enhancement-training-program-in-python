{
 "cells": [
  {
   "cell_type": "markdown",
   "metadata": {},
   "source": [
    "# Problem solving and programming\n",
    "## Day No\n",
    "### Date -8th MAY 2019"
   ]
  },
  {
   "cell_type": "markdown",
   "metadata": {},
   "source": [
    "### problem 1:\n",
    "#### Statement \n",
    "For given number, define a function to check if it is divisible by 2 and 3 but not by 4.\n",
    "\n",
    "\n",
    "#### Constraints\n",
    " given number will be in range[1, 100000000]\n",
    " \n",
    " \n",
    " #### Test cases\n",
    " checkDivisibility(6)-> True\n",
    " checkDivisibility(16)->False\n",
    " checkDivisibility(20)->False\n",
    " "
   ]
  },
  {
   "cell_type": "code",
   "execution_count": 2,
   "metadata": {},
   "outputs": [
    {
     "data": {
      "text/plain": [
       "True"
      ]
     },
     "execution_count": 2,
     "metadata": {},
     "output_type": "execute_result"
    }
   ],
   "source": [
    "def checkDivisibility(n):\n",
    "    if(n%2==0 and n%3==0 and n%4 !=0):\n",
    "        return True\n",
    "    else:\n",
    "        return False\n",
    "    \n",
    "checkDivisibility(6)"
   ]
  },
  {
   "cell_type": "code",
   "execution_count": null,
   "metadata": {},
   "outputs": [],
   "source": []
  }
 ],
 "metadata": {
  "kernelspec": {
   "display_name": "Python 3",
   "language": "python",
   "name": "python3"
  },
  "language_info": {
   "codemirror_mode": {
    "name": "ipython",
    "version": 3
   },
   "file_extension": ".py",
   "mimetype": "text/x-python",
   "name": "python",
   "nbconvert_exporter": "python",
   "pygments_lexer": "ipython3",
   "version": "3.7.3"
  }
 },
 "nbformat": 4,
 "nbformat_minor": 2
}
