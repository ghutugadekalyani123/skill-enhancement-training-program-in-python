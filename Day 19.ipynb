{
 "cells": [
  {
   "cell_type": "markdown",
   "metadata": {},
   "source": [
    "## Problem 1\n",
    "## Day 19\n",
    "\n",
    "Consider the following algorithm to generate a sequence of numbers. Start with an integer n. If n is even, divide by 2. If n is odd, multiply by 3 and add 1. Repeat this process with the new value of n, terminating when n = 1. For example, the following sequence of numbers will be generated for n = 22:\n",
    "\n",
    "22 11 34 17 52 26 13 40 20 10 5 16 8 4 2 1\n",
    "\n",
    "It is conjectured (but not yet proven) that this algorithm will terminate at n = 1 for every integer n. Still, the conjecture holds for all integers up to at least 1, 000, 000. For an input n, the cycle-length of n is the number of numbers generated up to and including the 1. In the example above, the cycle length of 22 is 16. Given any two numbers i and j, you are to determine the maximum cycle length over all numbers between i and j, including both endpoints."
   ]
  },
  {
   "cell_type": "code",
   "execution_count": 1,
   "metadata": {},
   "outputs": [
    {
     "data": {
      "text/plain": [
       "17"
      ]
     },
     "execution_count": 1,
     "metadata": {},
     "output_type": "execute_result"
    }
   ],
   "source": [
    "def n_series(n):\n",
    "    a=[]\n",
    "    count=1\n",
    "    while(n>1):\n",
    "        if(n%2==0):\n",
    "            n=n//2\n",
    "            a.append(n)\n",
    "            count=count+1\n",
    "        else:\n",
    "            n=n*3+1\n",
    "            a.append(n)\n",
    "            count=count+1\n",
    "    return count\n",
    "n_series(7)\n"
   ]
  },
  {
   "cell_type": "code",
   "execution_count": 2,
   "metadata": {},
   "outputs": [
    {
     "name": "stdout",
     "output_type": "stream",
     "text": [
      "1 10 20 8.935379696281614e-05\n",
      "100 200 125 0.004516592939721808\n"
     ]
    }
   ],
   "source": [
    "import timeit\n",
    "def input(a,b):\n",
    "    s=timeit.default_timer()\n",
    "    out=[]\n",
    "    for i in range(a,b):\n",
    "        out.append(n_series(i))\n",
    "    print(a,b,max(out),timeit.default_timer()-s)\n",
    "input(1,10)\n",
    "input(100,200)\n",
    "    "
   ]
  },
  {
   "cell_type": "code",
   "execution_count": 3,
   "metadata": {},
   "outputs": [
    {
     "data": {
      "text/plain": [
       "89"
      ]
     },
     "execution_count": 3,
     "metadata": {},
     "output_type": "execute_result"
    }
   ],
   "source": [
    "def mainsolution(i,j):\n",
    "    lenlist=[n_series(k) for k in range(i,j+1)]\n",
    "    return max(lenlist)\n",
    "mainsolution(201,210)"
   ]
  },
  {
   "cell_type": "code",
   "execution_count": null,
   "metadata": {},
   "outputs": [],
   "source": []
  }
 ],
 "metadata": {
  "kernelspec": {
   "display_name": "Python 3",
   "language": "python",
   "name": "python3"
  },
  "language_info": {
   "codemirror_mode": {
    "name": "ipython",
    "version": 3
   },
   "file_extension": ".py",
   "mimetype": "text/x-python",
   "name": "python",
   "nbconvert_exporter": "python",
   "pygments_lexer": "ipython3",
   "version": "3.6.5"
  }
 },
 "nbformat": 4,
 "nbformat_minor": 2
}
