{
 "cells": [
  {
   "cell_type": "markdown",
   "metadata": {},
   "source": [
    "## Day 6\n",
    "### Design a procedure calculate the maximum, minimum and average of N numbers\n",
    "Test cases:\n",
    "data( a[1,2,3,4,5] ) -> Max = 5, Min = 1, Avg = 3"
   ]
  },
  {
   "cell_type": "code",
   "execution_count": 20,
   "metadata": {},
   "outputs": [
    {
     "name": "stdout",
     "output_type": "stream",
     "text": [
      "1\n",
      "5\n",
      "3.0\n"
     ]
    }
   ],
   "source": [
    "def data(l):\n",
    "    sum=0\n",
    "    for i in range(len(l)):\n",
    "        sum=sum+l[i]\n",
    "    avg=sum/len(l)\n",
    "    print(min(l))\n",
    "    print(max(l))\n",
    "    print(avg)\n",
    "    \n",
    "data([1,2,3,4,5])"
   ]
  },
  {
   "cell_type": "markdown",
   "metadata": {},
   "source": [
    "# Day 6\n",
    "## Date 4 May 2019\n",
    "### Design a procedure to perform Linear search on list of N unsorted unique numbers. It take an array and the key element to be searched and returns the index of the element of key element if found. Else returns -1\n",
    "Test cases \n",
    "LinearSearch( a[5,4,3,2,1], 4) -> 2 \n",
    "LinearSearch( a[90, 123, 324, 21, 56], 22) -> -1"
   ]
  },
  {
   "cell_type": "code",
   "execution_count": 10,
   "metadata": {},
   "outputs": [
    {
     "name": "stdout",
     "output_type": "stream",
     "text": [
      "-1\n"
     ]
    }
   ],
   "source": [
    "def LinearSearch(a,key):\n",
    "    if (len(a)!=0):\n",
    "        for i in range(len(a)):\n",
    "            if(key==a[i]):\n",
    "                return(i+1)\n",
    "            else:\n",
    "                print('-1')\n",
    "                break\n",
    "    else:\n",
    "        print(\"empty list\")      \n",
    "LinearSearch([90, 123, 324, 21, 56], 22)     \n",
    "    "
   ]
  },
  {
   "cell_type": "markdown",
   "metadata": {},
   "source": [
    "## Day 6\n",
    "## Date 4 May 2019\n",
    "## Design a procedure to determine if a given string is a Palindrome\n",
    "Test cases\n",
    "Palindrome(\"racecar\") -> True \n",
    "Palindrome(\"raptor\") -> False"
   ]
  },
  {
   "cell_type": "code",
   "execution_count": 11,
   "metadata": {},
   "outputs": [
    {
     "data": {
      "text/plain": [
       "False"
      ]
     },
     "execution_count": 11,
     "metadata": {},
     "output_type": "execute_result"
    }
   ],
   "source": [
    "def Palindrome(s):\n",
    "    s1 = ''\n",
    "    for c in s:\n",
    "        s1 = c + s1\n",
    "    if(s==s1):\n",
    "        return True\n",
    "    else:\n",
    "        return False\n",
    "Palindrome(\"racecar\")\n",
    "Palindrome(\"raptor\")\n",
    "        "
   ]
  },
  {
   "cell_type": "markdown",
   "metadata": {},
   "source": [
    "## Day 6\n",
    "## Date 4 May 2019\n",
    "### Design a procedure to calculate the squareroot of a number \"without using the math function sqrt\".\n",
    "Test cases\n",
    "Squareroot(36) -> 6"
   ]
  },
  {
   "cell_type": "code",
   "execution_count": 12,
   "metadata": {},
   "outputs": [
    {
     "name": "stdout",
     "output_type": "stream",
     "text": [
      "10\n"
     ]
    }
   ],
   "source": [
    "def Squareroot(n):\n",
    "    for i in range(2,n//2):\n",
    "        m=i*i\n",
    "        if(m==n):\n",
    "            print(i)\n",
    "        else:\n",
    "            (\"not square\")\n",
    "Squareroot(100)\n",
    "        "
   ]
  },
  {
   "cell_type": "markdown",
   "metadata": {},
   "source": [
    "## Day 6\n",
    "## Date 4 May 2019\n",
    "### Design a procedure to determine the frequency count of numbers in a given list\n",
    "Test cases\n",
    "Frequency( a[1,3,2,1] ) -> 1 : 2, 2 : 1, 3 : 1"
   ]
  },
  {
   "cell_type": "code",
   "execution_count": 13,
   "metadata": {},
   "outputs": [
    {
     "name": "stdout",
     "output_type": "stream",
     "text": [
      "1 : 2,3 : 1,2 : 1,"
     ]
    }
   ],
   "source": [
    "def Frequency(l):\n",
    "    dict={}\n",
    "    for item in l:\n",
    "        if(item in dict):\n",
    "            dict[item]+=1\n",
    "        else:\n",
    "            dict[item]=1\n",
    "    for key, value in dict.items(): \n",
    "        print (key,\":\", value, end=\",\") \n",
    "        \n",
    "Frequency([1,3,2,1])\n",
    "                    \n"
   ]
  },
  {
   "cell_type": "code",
   "execution_count": null,
   "metadata": {},
   "outputs": [],
   "source": []
  }
 ],
 "metadata": {
  "kernelspec": {
   "display_name": "Python 3",
   "language": "python",
   "name": "python3"
  },
  "language_info": {
   "codemirror_mode": {
    "name": "ipython",
    "version": 3
   },
   "file_extension": ".py",
   "mimetype": "text/x-python",
   "name": "python",
   "nbconvert_exporter": "python",
   "pygments_lexer": "ipython3",
   "version": "3.6.5"
  }
 },
 "nbformat": 4,
 "nbformat_minor": 2
}
