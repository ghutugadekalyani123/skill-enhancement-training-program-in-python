{
 "cells": [
  {
   "cell_type": "markdown",
   "metadata": {},
   "source": [
    "## Problem 1:\n",
    "## Day 5\n",
    "## Procedure to check wheather given number is prime or not\n",
    "\n"
   ]
  },
  {
   "cell_type": "code",
   "execution_count": null,
   "metadata": {},
   "outputs": [],
   "source": []
  },
  {
   "cell_type": "code",
   "execution_count": 1,
   "metadata": {},
   "outputs": [
    {
     "name": "stdout",
     "output_type": "stream",
     "text": [
      "true\n"
     ]
    }
   ],
   "source": [
    "def isprime(x):\n",
    "    count=0\n",
    "    if(x==1):\n",
    "        print(\"number is 1\")\n",
    "    else:\n",
    "        for i in range(2,x):\n",
    "            if(x%i==0):\n",
    "                count=count+1  \n",
    "    if(count>=1):\n",
    "        print(\"false\")\n",
    "    else:\n",
    "        print(\"true\")\n",
    "isprime(11)"
   ]
  },
  {
   "cell_type": "markdown",
   "metadata": {},
   "source": [
    "## Problem 2:\n",
    "## Day 5\n",
    "## Count the number of digits in given number Test cases\n",
    "CountDigits(123456)->6 \n",
    "CountDigits(0)->1\n"
   ]
  },
  {
   "cell_type": "code",
   "execution_count": 2,
   "metadata": {},
   "outputs": [
    {
     "name": "stdout",
     "output_type": "stream",
     "text": [
      "6\n"
     ]
    }
   ],
   "source": [
    "def CountDigits(x):\n",
    "    count=0\n",
    "    while(x>0):\n",
    "        x=x//10\n",
    "        count=count+1\n",
    "    print(count)\n",
    "CountDigits(123456)"
   ]
  },
  {
   "cell_type": "markdown",
   "metadata": {},
   "source": [
    "## Problem 3\n",
    "## Procedure to check if given number is perfect number Test cases\n"
   ]
  },
  {
   "cell_type": "code",
   "execution_count": 4,
   "metadata": {},
   "outputs": [
    {
     "data": {
      "text/plain": [
       "True"
      ]
     },
     "execution_count": 4,
     "metadata": {},
     "output_type": "execute_result"
    }
   ],
   "source": [
    "def IsPerfect(x):\n",
    "    sum=0\n",
    "    for i in range(1,x):\n",
    "        if x%i==0:\n",
    "            sum=sum+i\n",
    "    if(sum==x):\n",
    "        return True\n",
    "    else:\n",
    "        return False\n",
    "IsPerfect(6)"
   ]
  },
  {
   "cell_type": "markdown",
   "metadata": {},
   "source": [
    "## Problem 4\n",
    "## Procedure to generate the first N perfect number Test cases\n"
   ]
  },
  {
   "cell_type": "code",
   "execution_count": 5,
   "metadata": {},
   "outputs": [
    {
     "data": {
      "text/plain": [
       "[6, 28]"
      ]
     },
     "execution_count": 5,
     "metadata": {},
     "output_type": "execute_result"
    }
   ],
   "source": [
    "def GeneratePerfect(a):\n",
    "    x=1\n",
    "    li=[]\n",
    "    count=0\n",
    "    while(x>0 and count!=a):\n",
    "        if(IsPerfect(x)):\n",
    "            count=count+1\n",
    "            li.append(x)\n",
    "        x=x+1\n",
    "        \n",
    "    if(count==a):\n",
    "        return li\n",
    "GeneratePerfect(2)"
   ]
  },
  {
   "cell_type": "code",
   "execution_count": null,
   "metadata": {},
   "outputs": [],
   "source": []
  }
 ],
 "metadata": {
  "kernelspec": {
   "display_name": "Python 3",
   "language": "python",
   "name": "python3"
  },
  "language_info": {
   "codemirror_mode": {
    "name": "ipython",
    "version": 3
   },
   "file_extension": ".py",
   "mimetype": "text/x-python",
   "name": "python",
   "nbconvert_exporter": "python",
   "pygments_lexer": "ipython3",
   "version": "3.6.5"
  }
 },
 "nbformat": 4,
 "nbformat_minor": 2
}
